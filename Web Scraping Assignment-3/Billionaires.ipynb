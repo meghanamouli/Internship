{
 "cells": [
  {
   "cell_type": "code",
   "execution_count": 1,
   "id": "f1d4f39a",
   "metadata": {},
   "outputs": [
    {
     "name": "stdout",
     "output_type": "stream",
     "text": [
      "Requirement already satisfied: selenium in c:\\users\\hp\\anaconda3\\lib\\site-packages (4.9.1)\n",
      "Requirement already satisfied: trio-websocket~=0.9 in c:\\users\\hp\\anaconda3\\lib\\site-packages (from selenium) (0.10.2)\n",
      "Requirement already satisfied: urllib3[socks]<3,>=1.26 in c:\\users\\hp\\anaconda3\\lib\\site-packages (from selenium) (1.26.14)\n",
      "Requirement already satisfied: certifi>=2021.10.8 in c:\\users\\hp\\anaconda3\\lib\\site-packages (from selenium) (2022.12.7)\n",
      "Requirement already satisfied: trio~=0.17 in c:\\users\\hp\\anaconda3\\lib\\site-packages (from selenium) (0.22.0)\n",
      "Requirement already satisfied: attrs>=19.2.0 in c:\\users\\hp\\anaconda3\\lib\\site-packages (from trio~=0.17->selenium) (22.1.0)\n",
      "Requirement already satisfied: sortedcontainers in c:\\users\\hp\\anaconda3\\lib\\site-packages (from trio~=0.17->selenium) (2.4.0)\n",
      "Requirement already satisfied: outcome in c:\\users\\hp\\anaconda3\\lib\\site-packages (from trio~=0.17->selenium) (1.2.0)\n",
      "Requirement already satisfied: sniffio in c:\\users\\hp\\anaconda3\\lib\\site-packages (from trio~=0.17->selenium) (1.2.0)\n",
      "Requirement already satisfied: idna in c:\\users\\hp\\anaconda3\\lib\\site-packages (from trio~=0.17->selenium) (3.4)\n",
      "Requirement already satisfied: cffi>=1.14 in c:\\users\\hp\\anaconda3\\lib\\site-packages (from trio~=0.17->selenium) (1.15.1)\n",
      "Requirement already satisfied: exceptiongroup>=1.0.0rc9 in c:\\users\\hp\\anaconda3\\lib\\site-packages (from trio~=0.17->selenium) (1.1.1)\n",
      "Requirement already satisfied: async-generator>=1.9 in c:\\users\\hp\\anaconda3\\lib\\site-packages (from trio~=0.17->selenium) (1.10)\n",
      "Requirement already satisfied: wsproto>=0.14 in c:\\users\\hp\\anaconda3\\lib\\site-packages (from trio-websocket~=0.9->selenium) (1.2.0)\n",
      "Requirement already satisfied: PySocks!=1.5.7,<2.0,>=1.5.6 in c:\\users\\hp\\anaconda3\\lib\\site-packages (from urllib3[socks]<3,>=1.26->selenium) (1.7.1)\n",
      "Requirement already satisfied: pycparser in c:\\users\\hp\\anaconda3\\lib\\site-packages (from cffi>=1.14->trio~=0.17->selenium) (2.21)\n",
      "Requirement already satisfied: h11<1,>=0.9.0 in c:\\users\\hp\\anaconda3\\lib\\site-packages (from wsproto>=0.14->trio-websocket~=0.9->selenium) (0.14.0)\n"
     ]
    }
   ],
   "source": [
    "!pip install selenium"
   ]
  },
  {
   "cell_type": "code",
   "execution_count": 2,
   "id": "d02a16af",
   "metadata": {},
   "outputs": [],
   "source": [
    "import selenium\n",
    "import pandas as pd\n",
    "from selenium import webdriver\n",
    "import warnings\n",
    "warnings.filterwarnings('ignore')\n",
    "\n",
    "from selenium.webdriver.common.by import By\n",
    "import time\n",
    "\n",
    "from selenium.common.exceptions import NoSuchElementException, TimeoutException\n",
    "\n",
    "import urllib.request\n",
    "\n",
    "from selenium.webdriver.support.ui import WebDriverWait\n",
    "from selenium.webdriver.support import expected_conditions as EC\n",
    "\n",
    "import requests\n",
    "import re\n",
    "\n",
    "from selenium.webdriver.common.keys import Keys"
   ]
  },
  {
   "cell_type": "code",
   "execution_count": 3,
   "id": "fcdbb578",
   "metadata": {},
   "outputs": [],
   "source": [
    "driver=webdriver.Chrome(r\"chromedriver.exe\")\n",
    "driver.maximize_window()"
   ]
  },
  {
   "cell_type": "code",
   "execution_count": 4,
   "id": "d9597039",
   "metadata": {},
   "outputs": [],
   "source": [
    "billionaires=driver.get(\"https://www.forbes.com/\")"
   ]
  },
  {
   "cell_type": "code",
   "execution_count": 5,
   "id": "e11a1e85",
   "metadata": {},
   "outputs": [],
   "source": [
    "wait=WebDriverWait(driver, 30).until(EC.visibility_of_element_located((By.CLASS_NAME, \"root__TFKT8\")))\n",
    "x=wait.find_element(By.CLASS_NAME,'root__OblK1')\n",
    "x.click()"
   ]
  },
  {
   "cell_type": "code",
   "execution_count": 6,
   "id": "bd96cf7c",
   "metadata": {},
   "outputs": [],
   "source": [
    "time.sleep(5)\n",
    "dropdownList=driver.find_element(By.XPATH, '/html/body/div[1]/header/nav/div[1]/div[1]')\n",
    "dropdownList.click()"
   ]
  },
  {
   "cell_type": "code",
   "execution_count": 7,
   "id": "9ee132f1",
   "metadata": {},
   "outputs": [],
   "source": [
    "spanBtn=driver.find_element(By.XPATH, '/html/body/div[1]/header/nav/div[1]/div[1]/div/div[2]/ul/li[2]/div[1]/span')\n",
    "spanBtn.click()"
   ]
  },
  {
   "cell_type": "code",
   "execution_count": 8,
   "id": "0a6f3914",
   "metadata": {},
   "outputs": [],
   "source": [
    "selectLink=driver.find_element(By.XPATH, '//*[@id=\"globalHeaderMenu\"]/div/div[2]/ul/li[2]/div[2]/div[3]/ul/li[1]')\n",
    "selectLink.click()"
   ]
  },
  {
   "cell_type": "code",
   "execution_count": 9,
   "id": "935bac58",
   "metadata": {},
   "outputs": [],
   "source": [
    "#try\n",
    "load=WebDriverWait(driver, 30).until(EC.visibility_of_element_located((By.CLASS_NAME, \"TableRow_rowContainer__IC1Tv\")))"
   ]
  },
  {
   "cell_type": "code",
   "execution_count": null,
   "id": "114dc57b",
   "metadata": {},
   "outputs": [],
   "source": [
    "rankNo=[]\n",
    "names=[]\n",
    "netWorth=[]\n",
    "age=[]\n",
    "citizenship=[]\n",
    "source=[]\n",
    "industry=[]\n",
    "\n",
    "selectRow=driver.find_elements(By.CLASS_NAME, 'TableRow_row__L-0Km')\n",
    "#print(len(selectRow))\n",
    "\n",
    "for _ in range(15):\n",
    "    driver.execute_script(\"window.scrollBy(0,50)\")\n",
    "    #time.sleep(1)\n",
    "\n",
    "while(True):\n",
    "    \n",
    "    # scraping the data of rank of the billionaires\n",
    "    rank_tag = driver.find_elements(By.XPATH, \"//div[@class='rank']\")\n",
    "    for rank in rank_tag:\n",
    "        Rank.append(rank.text)\n",
    "    \n",
    "    \n",
    "        \n",
    "data={'Rank':rankNo} #, 'NetWorth':netWorth, 'Name':names}#,, 'Age':age, 'Citizenship':citizenship, 'Source':source, 'Industry':industry}\n",
    "df = pd.DataFrame.from_dict(data, orient='index')\n",
    "df = df.transpose()\n",
    "df"
   ]
  }
 ],
 "metadata": {
  "kernelspec": {
   "display_name": "Python 3 (ipykernel)",
   "language": "python",
   "name": "python3"
  },
  "language_info": {
   "codemirror_mode": {
    "name": "ipython",
    "version": 3
   },
   "file_extension": ".py",
   "mimetype": "text/x-python",
   "name": "python",
   "nbconvert_exporter": "python",
   "pygments_lexer": "ipython3",
   "version": "3.10.9"
  }
 },
 "nbformat": 4,
 "nbformat_minor": 5
}
