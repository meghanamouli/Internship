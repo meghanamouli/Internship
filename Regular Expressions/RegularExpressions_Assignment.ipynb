{
 "cells": [
  {
   "cell_type": "code",
   "execution_count": 1,
   "id": "54376d75",
   "metadata": {},
   "outputs": [],
   "source": [
    "import regex as re\n",
    "\n",
    "#https://docs.python.org/3/library/re.html\n",
    "#https://www.tutorialspoint.com/How-to-check-if-a-string-only-contains-certain-characters-in-Python"
   ]
  },
  {
   "cell_type": "markdown",
   "id": "29ca13b2",
   "metadata": {},
   "source": [
    "Question 1- Write a Python program to check that a string contains only a certain set of characters (in this case a-z, A-Z and 0-9)."
   ]
  },
  {
   "cell_type": "code",
   "execution_count": 2,
   "id": "9eab7c86",
   "metadata": {},
   "outputs": [
    {
     "name": "stdout",
     "output_type": "stream",
     "text": [
      "<regex.Match object; span=(0, 31), match='Thereare123Bananasand456oranges'>\n",
      "True\n"
     ]
    }
   ],
   "source": [
    "pattern=\"\\w+\" #\\w+ is the word character [a-zA-Z0-9]\n",
    "text=\"Thereare123Bananasand456oranges\"\n",
    "\n",
    "char=re.match(pattern, text)\n",
    "print(char)\n",
    "print(bool(char))"
   ]
  },
  {
   "cell_type": "markdown",
   "id": "41ca8db7",
   "metadata": {},
   "source": [
    "Question 2- Create a function in python that matches a string that has an a followed by zero or more b's"
   ]
  },
  {
   "cell_type": "code",
   "execution_count": 114,
   "id": "f9d2aef1",
   "metadata": {},
   "outputs": [
    {
     "name": "stdout",
     "output_type": "stream",
     "text": [
      "<regex.Match object; span=(14, 19), match='abbbb'>\n"
     ]
    }
   ],
   "source": [
    "#search will searches for all the abb in the string\n",
    "# * matches 0 or more repetations of the regex(0 or more accurance)\n",
    "# a*b+ a* will give only a with b+, will gives one or more b's \n",
    "\n",
    "def match_char(text):\n",
    "    pattern=r'(a*b+)'       #r'a+bbb*' \n",
    "    matches=re.search(pattern, text)\n",
    "    return(matches)\n",
    "\n",
    "print(match_char('Every dog has abbbb day'))"
   ]
  },
  {
   "cell_type": "markdown",
   "id": "2365e1be",
   "metadata": {},
   "source": [
    "Question 3- Create a function in python that matches a string that has an a followed by one or more b's"
   ]
  },
  {
   "cell_type": "code",
   "execution_count": 119,
   "id": "d3673541",
   "metadata": {},
   "outputs": [
    {
     "name": "stdout",
     "output_type": "stream",
     "text": [
      "<regex.Match object; span=(11, 13), match='ab'>\n"
     ]
    }
   ],
   "source": [
    "# b+ matches one or more b's\n",
    "\n",
    "def char_match(text):\n",
    "    pattern=r'(a*b)'  \n",
    "    matches=re.search(pattern, text)\n",
    "    return(matches)\n",
    "\n",
    "print(char_match('I am doing ab course with DT'))"
   ]
  },
  {
   "cell_type": "markdown",
   "id": "d5c53d44",
   "metadata": {},
   "source": [
    "Question 4- Create a function in Python and use RegEx that matches a string that has an a followed by zero or one 'b'"
   ]
  },
  {
   "cell_type": "code",
   "execution_count": 5,
   "id": "4431f38b",
   "metadata": {},
   "outputs": [
    {
     "name": "stdout",
     "output_type": "stream",
     "text": [
      "None\n",
      "<regex.Match object; span=(0, 2), match='ab'>\n",
      "<regex.Match object; span=(0, 2), match='ab'>\n",
      "None\n"
     ]
    }
   ],
   "source": [
    "def char_match(text):\n",
    "    pattern=r'^a?ab'  \n",
    "    matches=re.search(pattern, text)\n",
    "    return(matches)\n",
    "\n",
    "print(char_match('a'))   \n",
    "print(char_match('ab'))\n",
    "print(char_match('abbbbb'))\n",
    "print(char_match('akdjfa'))"
   ]
  },
  {
   "cell_type": "markdown",
   "id": "1c345e1a",
   "metadata": {},
   "source": [
    "Question 5- Write a Python program that matches a string that has an a followed by three 'b'."
   ]
  },
  {
   "cell_type": "code",
   "execution_count": 6,
   "id": "66ac696c",
   "metadata": {},
   "outputs": [
    {
     "name": "stdout",
     "output_type": "stream",
     "text": [
      "None\n",
      "None\n",
      "<regex.Match object; span=(0, 4), match='abbb'>\n"
     ]
    }
   ],
   "source": [
    "def char_match(text):\n",
    "    pattern=r'^ab{3}'  \n",
    "    matches=re.search(pattern, text)\n",
    "    return(matches)\n",
    "\n",
    "print(char_match('a'))   \n",
    "print(char_match('ab'))\n",
    "print(char_match('abbbbb'))"
   ]
  },
  {
   "cell_type": "markdown",
   "id": "a77f9bda",
   "metadata": {},
   "source": [
    "Question 6- Write a regular expression in Python to split a string into uppercase letters.\n",
    "Sample text: “ImportanceOfRegularExpressionsInPython”\n",
    "Output: [‘Importance’, ‘Of’, ‘Regular’, ‘Expression’, ‘In’, ‘Python’]"
   ]
  },
  {
   "cell_type": "code",
   "execution_count": 7,
   "id": "52efe8d9",
   "metadata": {},
   "outputs": [
    {
     "name": "stdout",
     "output_type": "stream",
     "text": [
      "['Importance', 'Of', 'Regular', 'Expressions', 'In', 'Python']\n"
     ]
    }
   ],
   "source": [
    "# ? as there are many upper case it matches repetition in A-Z\n",
    "# [A-Z] only the upper case letters from A to Z and [a-z] is the lower case and * is so on\n",
    "# re.split(pattern, text) Split the string by each occurrence of the pattern.\n",
    "# re.findall(pattern, text) returns the list containing all matches\n",
    "\n",
    "text=\"ImportanceOfRegularExpressionsInPython\"\n",
    "pattern =('[A-Z][^A-Z]*')\n",
    "#x=re.split(pattern, text)\n",
    "x=re.findall(pattern, text)\n",
    "print(x)"
   ]
  },
  {
   "cell_type": "markdown",
   "id": "38fd135e",
   "metadata": {},
   "source": [
    "Question 7- Write a Python program that matches a string that has an a followed by two to three 'b'."
   ]
  },
  {
   "cell_type": "code",
   "execution_count": 8,
   "id": "f43d363b",
   "metadata": {},
   "outputs": [
    {
     "name": "stdout",
     "output_type": "stream",
     "text": [
      "None\n",
      "None\n",
      "<regex.Match object; span=(0, 4), match='abbb'>\n"
     ]
    }
   ],
   "source": [
    "def char_match(text):\n",
    "    pattern=r'ab{2,3}'  \n",
    "    matches=re.search(pattern, text)\n",
    "    return(matches)\n",
    "\n",
    "print(char_match('a'))   \n",
    "print(char_match('ab'))\n",
    "print(char_match('abbbbb'))"
   ]
  },
  {
   "cell_type": "markdown",
   "id": "e1740264",
   "metadata": {},
   "source": [
    "Question 8- Write a Python program to find sequences of lowercase letters joined with a underscore"
   ]
  },
  {
   "cell_type": "code",
   "execution_count": 32,
   "id": "092feafb",
   "metadata": {},
   "outputs": [
    {
     "name": "stdout",
     "output_type": "stream",
     "text": [
      "<regex.Match object; span=(23, 37), match='data_scientist'>\n",
      "<regex.Match object; span=(11, 28), match='beautiful_country'>\n",
      "None\n"
     ]
    }
   ],
   "source": [
    "# ^ anchors a match at the start of a string\n",
    "# [a-z] first letter to be lower case from a to z \n",
    "# + match whatever its placed after 1 or more items\n",
    "# _[a-z] _ and the first letter to be lower case from a to z\n",
    "# + all the other letters/word of the sentence\n",
    "\n",
    "def lower_case(text):\n",
    "    pattern=re.compile('[a-z]+_[a-z]+')  #r'^[a-z]+_[a-z]*'\n",
    "    match=m = pattern.search(text)\n",
    "    return(match)\n",
    "\n",
    "print(lower_case(\"I am going to become a data_scientist\"))\n",
    "print(lower_case(\"India is a beautiful_country\")) # because D and A are in upper case\n",
    "print(lower_case(\"Sky is blue\")) # because D in upper case and _ is missing"
   ]
  },
  {
   "cell_type": "markdown",
   "id": "ab06e5af",
   "metadata": {},
   "source": [
    "Question 9- Write a Python program that matches a string that has an 'a' followed by anything, ending in 'b'."
   ]
  },
  {
   "cell_type": "code",
   "execution_count": 121,
   "id": "f2e24775",
   "metadata": {},
   "outputs": [
    {
     "name": "stdout",
     "output_type": "stream",
     "text": [
      "<regex.Match object; span=(3, 16), match='ave abananasb'>\n",
      "<regex.Match object; span=(0, 6), match='alphab'>\n",
      "None\n",
      "None\n"
     ]
    }
   ],
   "source": [
    "def ab_search(text):\n",
    "    pattern=r'(a.*b)'\n",
    "    z=re.search(pattern, text)\n",
    "    return(z)\n",
    "\n",
    "print(ab_search(\"I have abananasb\"))\n",
    "print(ab_search(\"alphabe\"))\n",
    "print(ab_search(\"astart\"))\n",
    "print(ab_search(\"endb\"))"
   ]
  },
  {
   "cell_type": "markdown",
   "id": "5b01be45",
   "metadata": {},
   "source": [
    "Question 10- Write a Python program that matches a word at the beginning of a string."
   ]
  },
  {
   "cell_type": "code",
   "execution_count": 11,
   "id": "46c7b423",
   "metadata": {},
   "outputs": [
    {
     "name": "stdout",
     "output_type": "stream",
     "text": [
      "<regex.Match object; span=(0, 5), match='hello'>\n",
      "<regex.Match object; span=(0, 7), match='123four'>\n"
     ]
    }
   ],
   "source": [
    "# ^ anchors a match at the start of a string\n",
    "# \\w+ - word character [a-zA-Z_0-9] \n",
    "# * rest of the letter after first letter\n",
    "\n",
    "def beginning(text):\n",
    "    pattern=r'\\w*'\n",
    "    b=re.search(pattern, text)\n",
    "    return(b)\n",
    "\n",
    "print(beginning(\"hello world\"))\n",
    "print(beginning(\"123four\"))"
   ]
  },
  {
   "cell_type": "markdown",
   "id": "7e61c791",
   "metadata": {},
   "source": [
    "Question 11- Write a Python program to match a string that contains only upper and lowercase letters, numbers, and underscores."
   ]
  },
  {
   "cell_type": "code",
   "execution_count": 12,
   "id": "c31f8ea6",
   "metadata": {},
   "outputs": [
    {
     "name": "stdout",
     "output_type": "stream",
     "text": [
      "<regex.Match object; span=(0, 22), match='Ram went to the forest'>\n",
      "<regex.Match object; span=(0, 22), match='Today_is_the_best_date'>\n"
     ]
    }
   ],
   "source": [
    "# we want lower a-z upper A-Z and underscore _ \n",
    "def string_match(text):\n",
    "    patterns = r'^[a-zA-Z0-9_]'\n",
    "    l=re.search(pattern, text)\n",
    "    return(l)\n",
    "\n",
    "print(string_match(\"Ram went to the forest\"))\n",
    "print(string_match(\"Today_is_the_best_date\"))"
   ]
  },
  {
   "cell_type": "markdown",
   "id": "9d4ba4d8",
   "metadata": {},
   "source": [
    "Question 12- Write a Python program where a string will start with a specific number. "
   ]
  },
  {
   "cell_type": "code",
   "execution_count": 13,
   "id": "4ba731d7",
   "metadata": {},
   "outputs": [
    {
     "name": "stdout",
     "output_type": "stream",
     "text": [
      "<regex.Match object; span=(0, 0), match=''>\n"
     ]
    }
   ],
   "source": [
    "# 3 as a specific number\n",
    "def sp_number(number):\n",
    "    pattern=r'^1*'\n",
    "    n=re.match(pattern, text)\n",
    "    return(n)\n",
    "\n",
    "print(sp_number(\"1_digit\"))\n",
    "\n",
    "\n",
    "\n",
    "\n",
    "\n",
    "\n"
   ]
  },
  {
   "cell_type": "markdown",
   "id": "b0469b51",
   "metadata": {},
   "source": [
    "Question 13- Write a Python program to remove leading zeros from an IP address"
   ]
  },
  {
   "cell_type": "code",
   "execution_count": 14,
   "id": "211f2cba",
   "metadata": {},
   "outputs": [
    {
     "name": "stdout",
     "output_type": "stream",
     "text": [
      "255.55.55.50\n",
      "192.58.1.38\n",
      "072.310.55.204\n"
     ]
    }
   ],
   "source": [
    "# re.sub(pattern, replace, string, count=0, flags=0)\n",
    "# sub() replaces every occurrence of a pattern with a string\n",
    "#to remove 00 at the beginning \n",
    "# . matches any charater except a newline character\n",
    "\n",
    "#'\\.[0]*', '.', ip) \n",
    "\n",
    "def remove_leading(text):\n",
    "    pattern=r'\\.[0]*'    \n",
    "    replace_text=re.sub(pattern, '.', text)\n",
    "    return(replace_text)\n",
    "\n",
    "print(remove_leading(\"255.055.055.50\")) \n",
    "print(remove_leading(\"192.058.01.038\")) \n",
    "print(remove_leading(\"072.310.055.204\")) "
   ]
  },
  {
   "cell_type": "markdown",
   "id": "8f70ded3",
   "metadata": {},
   "source": [
    "Question 14- Write a regular expression in python to match a date string in the form of Month name followed by day number and year stored in a text file.\n",
    "Sample text : ' On August 15th 1947 that India was declared independent from British colonialism, and the reins of control were handed over to the leaders of the Country’.\n",
    "Output- August 15th 1947\n",
    "Hint- Use re.match() method here"
   ]
  },
  {
   "cell_type": "code",
   "execution_count": 15,
   "id": "bb68a96f",
   "metadata": {},
   "outputs": [
    {
     "name": "stdout",
     "output_type": "stream",
     "text": [
      "On August 15th 1947 that India was declared independent from British colonialism, and the reins of control were handed over to the leaders of the Country\n",
      "None\n"
     ]
    }
   ],
   "source": [
    "with open(\"C:/Users/hp/Meghana/Internship/date.txt\") as file:\n",
    "    for line in file:\n",
    "        print(line)\n",
    "        \n",
    "        dates=re.match(r'\\d+', line)\n",
    "        print(dates)\n",
    "        \n",
    "        \n",
    "        \n",
    "        \n",
    "        \n",
    "        "
   ]
  },
  {
   "cell_type": "markdown",
   "id": "d0aac61d",
   "metadata": {},
   "source": [
    "Question 15- Write a Python program to search some literals strings in a string. Go to the editor\n",
    "Sample text : 'The quick brown fox jumps over the lazy dog.'\n",
    "Searched words : 'fox', 'dog', 'horse'"
   ]
  },
  {
   "cell_type": "code",
   "execution_count": 16,
   "id": "5832f18c",
   "metadata": {},
   "outputs": [
    {
     "name": "stdout",
     "output_type": "stream",
     "text": [
      "fox - <regex.Match object; span=(16, 19), match='fox'>\n",
      "dog - <regex.Match object; span=(40, 43), match='dog'>\n",
      "horse - None\n"
     ]
    }
   ],
   "source": [
    "animals=['fox', 'dog', 'horse']\n",
    "for animal in animals:\n",
    "    text='The quick brown fox jumps over the lazy dog.'\n",
    "    search=re.search(animal, text)\n",
    "    print(animal, '-', search)"
   ]
  },
  {
   "cell_type": "markdown",
   "id": "ac1a4c8e",
   "metadata": {},
   "source": [
    "Question 16- Write a Python program to search a literals string in a string and also find the location within the original string where the pattern occurs\n",
    "Sample text : 'The quick brown fox jumps over the lazy dog.'\n",
    "Searched words : 'fox'"
   ]
  },
  {
   "cell_type": "code",
   "execution_count": 17,
   "id": "c7d5fe07",
   "metadata": {},
   "outputs": [
    {
     "name": "stdout",
     "output_type": "stream",
     "text": [
      "fox - <regex.Match object; span=(16, 19), match='fox'>\n",
      "16\n",
      "19\n",
      "(16, 19)\n"
     ]
    }
   ],
   "source": [
    "# location means where the fox of f is starting from \n",
    "animal='fox'\n",
    "text='The quick brown fox jumps over the lazy dog.'\n",
    "search=re.search(animal, text)\n",
    "print(animal, '-', search)\n",
    "#getting the starting index using search.start()\n",
    "print(search.start())\n",
    "#getting the starting index using search.end()\n",
    "print(search.end())\n",
    "#Getting the start and end index in tuple format using search.span()\n",
    "print(search.span())"
   ]
  },
  {
   "cell_type": "markdown",
   "id": "9c24ca84",
   "metadata": {},
   "source": [
    "Question 17- Write a Python program to find the substrings within a string.\n",
    "Sample text : 'Python exercises, PHP exercises, C# exercises'\n",
    "Pattern : 'exercises'. "
   ]
  },
  {
   "cell_type": "code",
   "execution_count": 18,
   "id": "2d948439",
   "metadata": {},
   "outputs": [
    {
     "name": "stdout",
     "output_type": "stream",
     "text": [
      "['exercises', 'exercises', 'exercises']\n"
     ]
    }
   ],
   "source": [
    "languages='Python exercises, PHP exercises, C# exercises' \n",
    "pattern='exercises'\n",
    "substring=re.findall(pattern, languages)\n",
    "print(substring)"
   ]
  },
  {
   "cell_type": "markdown",
   "id": "20048fbb",
   "metadata": {},
   "source": [
    "Question 18- Write a Python program to find the occurrence and position of the substrings within a string."
   ]
  },
  {
   "cell_type": "code",
   "execution_count": 19,
   "id": "1bb7703f",
   "metadata": {},
   "outputs": [
    {
     "name": "stdout",
     "output_type": "stream",
     "text": [
      "['exercises', 'exercises', 'exercises']\n",
      "<regex.Match object; span=(7, 16), match='exercises'>\n",
      "<regex.Match object; span=(22, 31), match='exercises'>\n",
      "<regex.Match object; span=(36, 45), match='exercises'>\n"
     ]
    }
   ],
   "source": [
    "#The finditer() function matches a pattern in a string and returns an iterator which means its self that yields \n",
    "#       the Match objects of all non-overlapping matches.\n",
    "languages='Python exercises, PHP exercises, C# exercises' \n",
    "pattern='exercises'\n",
    "occurrence=re.findall(pattern, languages)\n",
    "print(substring)\n",
    "position = re.finditer(pattern, languages)\n",
    "for p in position:\n",
    "    print(p)"
   ]
  },
  {
   "cell_type": "markdown",
   "id": "fa20f335",
   "metadata": {},
   "source": [
    "Question 19- Write a Python program to convert a date of yyyy-mm-dd format to dd-mm-yyyy format."
   ]
  },
  {
   "cell_type": "code",
   "execution_count": 20,
   "id": "135f923a",
   "metadata": {},
   "outputs": [
    {
     "name": "stdout",
     "output_type": "stream",
     "text": [
      "2023-07-14 00:00:00\n",
      "14-07-2023\n"
     ]
    }
   ],
   "source": [
    "from datetime import datetime\n",
    "\n",
    "#datetime.strptime(time_data, format_data)\n",
    "#time_data is the time present in string format\n",
    "#format_data is the data present in datetime format which is converted from time_data using this function.\n",
    "\n",
    "date='2023-07-14'\n",
    "x = datetime.strptime(date, '%Y-%m-%d')\n",
    "print(x)\n",
    "print(x.strftime('%d-%m-%Y'))"
   ]
  },
  {
   "cell_type": "markdown",
   "id": "fe37ba3b",
   "metadata": {},
   "source": [
    "Question 20- Write a Python program to find all words starting with 'a' or 'e' in a given string."
   ]
  },
  {
   "cell_type": "code",
   "execution_count": 21,
   "id": "dfd70772",
   "metadata": {},
   "outputs": [
    {
     "name": "stdout",
     "output_type": "stream",
     "text": [
      "['ered', 'erious', 'eity', 'anatan', 'arma']\n"
     ]
    }
   ],
   "source": [
    "# [ae] it says a or e at the start and \\w+ is [a-zA-Z0-9] continued with other letters\n",
    "text='Shiva is considered to be the most mysterious deity in sanatan dharma'\n",
    "pattern=r'[ae]\\w+'\n",
    "s=re.findall(pattern, text)\n",
    "print(s)\n",
    "\n",
    "\n",
    "\n",
    "\n"
   ]
  },
  {
   "cell_type": "markdown",
   "id": "5bc04b04",
   "metadata": {},
   "source": [
    "Question 21- Write a Python program to separate and print the numbers and their position of a given string."
   ]
  },
  {
   "cell_type": "code",
   "execution_count": 22,
   "id": "0011c9a8",
   "metadata": {},
   "outputs": [
    {
     "name": "stdout",
     "output_type": "stream",
     "text": [
      "['43', '91']\n",
      "24\n",
      "41\n"
     ]
    }
   ],
   "source": [
    "text='Rohit Sharma has scored 43 centuries and 91 half centuries'\n",
    "pattern=r'\\d+' #there might be double digit so +\n",
    "n=re.findall(pattern, text)\n",
    "print(n)\n",
    "\n",
    "for number in re.finditer(pattern, text):\n",
    "    f=number.start()\n",
    "    print(f)"
   ]
  },
  {
   "cell_type": "markdown",
   "id": "bcc0030a",
   "metadata": {},
   "source": [
    "Question 22- Write a regular expression in python program to extract maximum numeric value from a string"
   ]
  },
  {
   "cell_type": "code",
   "execution_count": 23,
   "id": "6d8022ad",
   "metadata": {},
   "outputs": [
    {
     "name": "stdout",
     "output_type": "stream",
     "text": [
      "['3', '30', '27']\n",
      "30\n"
     ]
    }
   ],
   "source": [
    "text='I am 3 yrs old and i will be 30 yrs in 27 yrs'\n",
    "pattern=r'\\d+' # + because it might have double digit\n",
    "m=re.findall(pattern, text)\n",
    "print(m)\n",
    "# max() function gets me the maximum value \n",
    "print(max(m))"
   ]
  },
  {
   "cell_type": "markdown",
   "id": "b7a29b4a",
   "metadata": {},
   "source": [
    "Question 23- Write a Regex in Python to put spaces between words starting with capital letters"
   ]
  },
  {
   "cell_type": "code",
   "execution_count": 132,
   "id": "a47a579a",
   "metadata": {},
   "outputs": [
    {
     "name": "stdout",
     "output_type": "stream",
     "text": [
      "Artificial Intelligence Is The Future\n"
     ]
    }
   ],
   "source": [
    "# (\\w)([A-Z]) \\w is the word where first letter is between A-Z\n",
    "# re.sub(pattern, repl, string) \n",
    "# \\1 \\2 is letting you know to give space between 2 word for the specific pattern\n",
    "text='ArtificialIntelligenceIsTheFuture'\n",
    "pattern=r'(\\w)([A-Z])'\n",
    "\n",
    "add_space=re.sub(pattern, r\"\\1 \\2\", text)\n",
    "print(add_space)"
   ]
  },
  {
   "cell_type": "markdown",
   "id": "4995c91a",
   "metadata": {},
   "source": [
    "Question 24- Python regex to find sequences of one upper case letter followed by lower case letters"
   ]
  },
  {
   "cell_type": "code",
   "execution_count": 134,
   "id": "69ffb002",
   "metadata": {},
   "outputs": [
    {
     "name": "stdout",
     "output_type": "stream",
     "text": [
      "<regex.Match object; span=(31, 37), match='Demand'>\n"
     ]
    }
   ],
   "source": [
    "# [A-Z]+[a-z]+$ word starting with Caps and lower till the end\n",
    "def upper_lowerCase(text):\n",
    "    pattern=r'[A-Z]+[a-z]+$'\n",
    "    seq=re.search(pattern, text)\n",
    "    return(seq)\n",
    "\n",
    "print(upper_lowerCase(\"business intelligence has more Demand\"))"
   ]
  },
  {
   "cell_type": "markdown",
   "id": "eac452b3",
   "metadata": {},
   "source": [
    "Question 25- Write a Python program to remove duplicate words from Sentence using Regular Expression"
   ]
  },
  {
   "cell_type": "code",
   "execution_count": 136,
   "id": "910381a7",
   "metadata": {},
   "outputs": [
    {
     "name": "stdout",
     "output_type": "stream",
     "text": [
      "Rama went to the forest\n"
     ]
    }
   ],
   "source": [
    "def remove_dup(text):\n",
    "    pattern=r'\\b(\\w+)(?:\\W+\\1\\b)+'\n",
    "    duplicate=re.sub(pattern, r'\\1', text)\n",
    "    return(duplicate)\n",
    "\n",
    "print(remove_dup(\"Rama went to to the forest\"))"
   ]
  },
  {
   "cell_type": "markdown",
   "id": "af2ccad1",
   "metadata": {},
   "source": [
    "Question 26-  Write a python program using RegEx to accept string ending with alphanumeric character."
   ]
  },
  {
   "cell_type": "code",
   "execution_count": 144,
   "id": "443c340d",
   "metadata": {},
   "outputs": [
    {
     "name": "stdout",
     "output_type": "stream",
     "text": [
      "<regex.Match object; span=(5, 16), match='Meghana2020'>\n"
     ]
    }
   ],
   "source": [
    "\n",
    "text=\"I am Meghana2020\"\n",
    "pattern=r'\\b(\\w+)$'\n",
    "\n",
    "accept=re.search(pattern, text)\n",
    "print(accept)"
   ]
  },
  {
   "cell_type": "markdown",
   "id": "51cd5cb4",
   "metadata": {},
   "source": [
    "Question 27-Write a python program using RegEx to extract the hashtags.\n",
    "Sample Text: text = \"\"\"RT @kapil_kausik: #Doltiwal I mean #xyzabc is \"hurt\" by #Demonetization as the same has rendered USELESS <ed><U+00A0><U+00BD><ed><U+00B1><U+0089> \"acquired funds\" No wo\"\"\"\n",
    "Output: ['#Doltiwal', '#xyzabc', '#Demonetization']\n"
   ]
  },
  {
   "cell_type": "code",
   "execution_count": 155,
   "id": "7d3a996b",
   "metadata": {},
   "outputs": [
    {
     "name": "stdout",
     "output_type": "stream",
     "text": [
      "['#Doltiwal', '#xyzabc', '#Demonetization']\n"
     ]
    }
   ],
   "source": [
    "# (#[\\w+]*) beginning with # continued with words \n",
    "text = 'RT @kapil_kausik: #Doltiwal I mean #xyzabc is \"hurt\" by #Demonetization as the same has rendered USELESS <ed><U+00A0><U+00BD><ed><U+00B1><U+0089> \"acquired funds\" No wo'\n",
    "pattern=r'#[\\w+]*'\n",
    "\n",
    "hash_tag=re.findall(pattern, text)\n",
    "print(hash_tag)"
   ]
  },
  {
   "cell_type": "markdown",
   "id": "21a2aeeb",
   "metadata": {},
   "source": [
    "Question 28- Write a python program using RegEx to remove <U+..> like symbols\n",
    "Check the below sample text, there are strange symbols something of the sort <U+..> all over the place. You need to come up with a general Regex expression that will cover all such symbols.\n",
    "Sample Text: \"@Jags123456 Bharat band on 28??<ed><U+00A0><U+00BD><ed><U+00B8><U+0082>Those who  are protesting #demonetization  are all different party leaders\"\n",
    "Output: @Jags123456 Bharat band on 28??<ed><ed>Those who  are protesting #demonetization  are all different party leaders"
   ]
  },
  {
   "cell_type": "code",
   "execution_count": 175,
   "id": "f487cd4d",
   "metadata": {},
   "outputs": [
    {
     "name": "stdout",
     "output_type": "stream",
     "text": [
      "@Jags123456 Bharat band on 28??<U+00A0><U+00BD><U+00B8><U+0082>Those who are protesting #demonetization are all different party leaders\n"
     ]
    }
   ],
   "source": [
    "text=\"@Jags123456 Bharat band on 28??<U+00A0><U+00BD><U+00B8><U+0082>Those who are protesting #demonetization are all different party leaders\"\n",
    "pattern=',?\\<\\d+_[^,]+'   #r'[<]U[+\\d{4}]'  \n",
    "\n",
    "remove=re.sub(pattern, ' ', text)\n",
    "print(remove)\n",
    "\n",
    "\n",
    "\n",
    "\n",
    "\n",
    "\n",
    "\n",
    "\n"
   ]
  },
  {
   "cell_type": "markdown",
   "id": "c0e7dffe",
   "metadata": {},
   "source": [
    "Question 29- Write a python program to extract dates from the text stored in the text file.\n",
    "Sample Text: Ron was born on 12-09-1992 and he was admitted to school 15-12-1999.\n",
    "Store this sample text in the file and then extract dates.\n"
   ]
  },
  {
   "cell_type": "code",
   "execution_count": 182,
   "id": "02c75b64",
   "metadata": {},
   "outputs": [
    {
     "name": "stdout",
     "output_type": "stream",
     "text": [
      "['12-09-1992', '15-12-1999']\n"
     ]
    }
   ],
   "source": [
    "#\\d{2}[/-]\\d{2}[/-]\\d{4} here it gives the pattern where first 2 digit of numbers then - then agin 2 numbers then - and 4 numbers\n",
    "\n",
    "with open(\"C:/Users/hp/Meghana/Internship/extract_dates.txt\") as file:\n",
    "    for line in file:\n",
    "        pattern=r'\\d{2}[/-]\\d{2}[/-]\\d{4}'\n",
    "        dates=re.findall(pattern, line)\n",
    "        print(dates)"
   ]
  },
  {
   "cell_type": "markdown",
   "id": "42701dc2",
   "metadata": {},
   "source": [
    "Question 30- Write a Python program to replace all occurrences of a space, comma, or dot with a colon.\n",
    "Sample Text- 'Python Exercises, PHP exercises.'\n",
    "Output: Python:Exercises::PHP:exercises:"
   ]
  },
  {
   "cell_type": "code",
   "execution_count": 188,
   "id": "9c62eb88",
   "metadata": {},
   "outputs": [
    {
     "name": "stdout",
     "output_type": "stream",
     "text": [
      "Python:Exercises::PHP:exercises:\n"
     ]
    }
   ],
   "source": [
    "# the 3 special characters are \\s space, , comma, and . dot\n",
    "text='Python Exercises, PHP exercises.'\n",
    "pattern=r'[\\s,.]'\n",
    "\n",
    "occurrences=re.sub(pattern, ':', text)\n",
    "print(occurrences)"
   ]
  },
  {
   "cell_type": "code",
   "execution_count": null,
   "id": "6a589392",
   "metadata": {},
   "outputs": [],
   "source": []
  }
 ],
 "metadata": {
  "kernelspec": {
   "display_name": "Python 3 (ipykernel)",
   "language": "python",
   "name": "python3"
  },
  "language_info": {
   "codemirror_mode": {
    "name": "ipython",
    "version": 3
   },
   "file_extension": ".py",
   "mimetype": "text/x-python",
   "name": "python",
   "nbconvert_exporter": "python",
   "pygments_lexer": "ipython3",
   "version": "3.10.9"
  }
 },
 "nbformat": 4,
 "nbformat_minor": 5
}
